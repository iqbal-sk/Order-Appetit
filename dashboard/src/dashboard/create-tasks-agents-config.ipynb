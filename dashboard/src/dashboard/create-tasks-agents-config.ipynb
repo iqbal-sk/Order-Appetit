{
 "cells": [
  {
   "metadata": {
    "ExecuteTime": {
     "end_time": "2024-11-13T18:30:25.383808Z",
     "start_time": "2024-11-13T18:30:24.838560Z"
    }
   },
   "cell_type": "code",
   "source": [
    "from langfuse import Langfuse\n",
    "\n",
    "# Initialize Langfuse\n",
    "langfuse = Langfuse(\n",
    "    \n",
    "    secret_key=\"sk-lf-aeb14342-6e5e-46e9-8674-f93784903362\",\n",
    "    public_key=\"pk-lf-ac224c24-bc15-49a6-bcfa-5abb8854ba10\",\n",
    "    host=\"https://us.cloud.langfuse.com\"\n",
    ")"
   ],
   "id": "f90d5ca4c02fc3bb",
   "outputs": [],
   "execution_count": 5
  },
  {
   "metadata": {
    "ExecuteTime": {
     "end_time": "2024-11-13T18:29:39.653615Z",
     "start_time": "2024-11-13T18:29:39.621226Z"
    }
   },
   "cell_type": "code",
   "source": [
    "import yaml\n",
    "\n",
    "\n",
    "def load_configs():\n",
    "    \"\"\"Load agent and task configurations from YAML files\"\"\"\n",
    "    config_path = 'config'\n",
    "\n",
    "    # Load agents config\n",
    "    with open('./config/agents.yaml', 'r') as f:\n",
    "        agents_config = yaml.safe_load(f)\n",
    "\n",
    "    # Load tasks config\n",
    "    with open('./config/tasks.yaml', 'r') as f:\n",
    "        tasks_config = yaml.safe_load(f)\n",
    "\n",
    "    return agents_config, tasks_config"
   ],
   "id": "ceb606cb05af2bdb",
   "outputs": [],
   "execution_count": 2
  },
  {
   "metadata": {
    "ExecuteTime": {
     "end_time": "2024-11-13T18:29:45.744603Z",
     "start_time": "2024-11-13T18:29:45.732301Z"
    }
   },
   "cell_type": "code",
   "source": "agents_config, tasks_config = load_configs()",
   "id": "ac51f232cb7331a0",
   "outputs": [],
   "execution_count": 3
  },
  {
   "metadata": {
    "ExecuteTime": {
     "end_time": "2024-11-13T18:30:21.831410Z",
     "start_time": "2024-11-13T18:30:21.828146Z"
    }
   },
   "cell_type": "code",
   "source": [
    "# Store agent configuration\n",
    "def store_agent_config(name, role, goal, backstory):\n",
    "    return langfuse.create_prompt(\n",
    "        name=name,\n",
    "        prompt=\"\",  # Empty as we're just using config\n",
    "        config={\n",
    "            \"role\": role,\n",
    "            \"goal\": goal,\n",
    "            \"backstory\": backstory\n",
    "        },\n",
    "        labels=[\"production\"]\n",
    "    )\n",
    "\n",
    "# Store task configuration\n",
    "def store_task_config(name, description, expected_output):\n",
    "    return langfuse.create_prompt(\n",
    "        name=name,\n",
    "        prompt=\"\",  # Empty as we're just using config\n",
    "        config={\n",
    "            \"description\": description,\n",
    "            \"expected_output\": expected_output,\n",
    "        },\n",
    "        labels=[\"production\"]\n",
    "    )"
   ],
   "id": "5c7bb20d77bd066e",
   "outputs": [],
   "execution_count": 4
  },
  {
   "metadata": {
    "ExecuteTime": {
     "end_time": "2024-11-13T18:37:23.980032Z",
     "start_time": "2024-11-13T18:37:22.642006Z"
    }
   },
   "cell_type": "code",
   "source": [
    "name = 'data_analyst'\n",
    "config = agents_config[name]\n",
    "store_agent_config(name, config['role'], config['goal'], config['backstory'])"
   ],
   "id": "ed46e12e6de4fb49",
   "outputs": [
    {
     "data": {
      "text/plain": [
       "<langfuse.model.TextPromptClient at 0x116f24650>"
      ]
     },
     "execution_count": 10,
     "metadata": {},
     "output_type": "execute_result"
    }
   ],
   "execution_count": 10
  },
  {
   "metadata": {
    "ExecuteTime": {
     "end_time": "2024-11-13T18:35:18.589328Z",
     "start_time": "2024-11-13T18:35:18.586805Z"
    }
   },
   "cell_type": "code",
   "source": [
    "for name, config in agents_config.items():\n",
    "    print(name, config)\n",
    "    # store_agent_config(name, config['role'], config['goal'], config['backstory'])"
   ],
   "id": "cad4275dd8dead76",
   "outputs": [
    {
     "name": "stdout",
     "output_type": "stream",
     "text": [
      "schema_analyzer {'role': 'Expert MongoDB Schema Analyst and Python Developer\\n', 'goal': \"Identify the necessary collections and fields from the provided list that are relevant to the user's query. Analyze and map the schemas of these collections to the query components, focusing on metrics related to Restaurants, Orders, and Users. Specifically address naming inconsistencies in product names to ensure all variations are included in the analysis.\\n\", 'backstory': \"As a seasoned MongoDB schema analyst at 'Order Appetit', you excel in mapping business queries to database schemas. Your expertise allows you to identify relevant collections and fields, and to handle naming inconsistencies that could impact data analysis. You are adept at developing strategies to standardize or account for variations in data entries, ensuring comprehensive and accurate analysis.\\nabilities: - Identifying relevant collections and fields - Schema analysis and mapping - Handling data variations and inconsistencies, especially naming inconsistencies - Proficient in Python and MongoDB - Effective communication of technical concepts\\n\", 'tools': ['CodeExecutionTool', 'DatabaseIntrospectionTool', 'DataCleaningTool'], 'allow_delegation': True, 'allow_code_execution': True, 'verbose': True, 'context': {'mongodb_uri': {'mongodb_uri': None}, 'database_name': {'database_name': None}, 'collection_names': {'collection_names': None}}}\n",
      "query_builder {'role': 'MongoDB Query Optimization Specialist and Python Programmer\\n', 'goal': 'Develop optimized, executable MongoDB queries or aggregation pipelines that consistently provide both sales count/volume and sales value in dollars, using names instead of IDs. Ensure that the query results are returned as JSON objects for seamless integration with subsequent analysis tasks. Utilize schema analysis results to handle naming inconsistencies effectively, including all relevant records in the results.\\n', 'backstory': \"You are a MongoDB query optimization specialist at 'Order Appetit', skilled in translating business requirements into efficient database queries. Your expertise ensures consistent and comprehensive data retrieval, even when dealing with naming inconsistencies in product names. abilities: - Advanced query construction and optimization - Proficient in MongoDB aggregation framework - Handling data inconsistencies and ensuring output consistency - Strong Python programming skills - JSON data handling and manipulation\\n\", 'tools': ['CodeExecutionTool', 'QueryOptimizationTool', 'RegexTool', 'JSONHandlerTool'], 'allow_delegation': True, 'allow_code_execution': True, 'verbose': True, 'context': {'mongodb_uri': {'mongodb_uri': None}, 'database_name': {'database_name': None}, 'collection_names': {'collection_names': None}, 'schema_mapping_output': {'schema_mapping_output': None}}}\n",
      "data_analyst {'role': 'Senior Data Analyst Specializing in MongoDB Data Interpretation\\n', 'goal': \"Analyze MongoDB query results provided as JSON objects to extract meaningful business insights. Ensure consistency in outputs by focusing on both sales count/volume and sales value in dollars. Use names instead of IDs to enhance readability and usability of the results. Provide actionable recommendations based on the user's query and specified business metrics.\\n\", 'backstory': \"As a senior data analyst at 'Order Appetit', you specialize in interpreting complex data to drive strategic business decisions. Your proficiency in data analysis, statistical methods, and business intelligence tools enables you to transform raw JSON data into valuable insights that support business growth. abilities: - Advanced data analysis and interpretation of JSON data - Proficient in statistical analysis and KPI calculation - Skilled in communicating insights and recommendations clearly - Experienced in data visualization techniques - Ability to handle and process large JSON datasets\\n\", 'tools': ['CodeExecutionTool', 'DataVisualizationTool', 'StatisticalAnalysisTool', 'JSONHandlerTool'], 'allow_code_execution': True, 'allow_delegation': True, 'verbose': True, 'context': {'mongodb_uri': {'mongodb_uri': None}, 'database_name': {'database_name': None}, 'user_query': {'user_query': None}, 'query_results': {'query_results': None}}}\n"
     ]
    }
   ],
   "execution_count": 7
  },
  {
   "metadata": {},
   "cell_type": "code",
   "outputs": [],
   "execution_count": null,
   "source": [
    "for name, config in tasks_config.items():\n",
    "    store_task_config(name, config['description'], config['expected_output'])"
   ],
   "id": "5a45c3806051e15a"
  },
  {
   "metadata": {},
   "cell_type": "code",
   "outputs": [],
   "execution_count": null,
   "source": [
    "def get_agent_config(name, version=None, label=\"production\"):\n",
    "    prompt = langfuse.get_prompt(\n",
    "        name=name, \n",
    "        version=version,\n",
    "        label=label\n",
    "    )\n",
    "    return prompt.config\n",
    "\n",
    "def get_task_config(name, version=None, label=\"production\"):\n",
    "    prompt = langfuse.get_prompt(\n",
    "        f\"task-{name}\",\n",
    "        version=version,\n",
    "        label=label\n",
    "    )\n",
    "    return prompt.config"
   ],
   "id": "48bfc75d0878f103"
  },
  {
   "metadata": {
    "ExecuteTime": {
     "end_time": "2024-11-13T20:20:23.580318Z",
     "start_time": "2024-11-13T20:20:23.566710Z"
    }
   },
   "cell_type": "code",
   "source": [
    "def get_agent_config(name, version=None, label=\"production\"):\n",
    "    prompt = langfuse.get_prompt(\n",
    "        name=name, \n",
    "        version=version,\n",
    "        label=label\n",
    "    )\n",
    "    return prompt.config"
   ],
   "id": "bed02e04b6b76d5c",
   "outputs": [],
   "execution_count": 11
  },
  {
   "metadata": {
    "ExecuteTime": {
     "end_time": "2024-11-13T20:21:55.785960Z",
     "start_time": "2024-11-13T20:21:55.782247Z"
    }
   },
   "cell_type": "code",
   "source": "get_agent_config('schema_analyzer')['role']",
   "id": "698e4ba29960d0d9",
   "outputs": [
    {
     "data": {
      "text/plain": [
       "'Expert MongoDB Schema Analyst and Python Developer\\n'"
      ]
     },
     "execution_count": 13,
     "metadata": {},
     "output_type": "execute_result"
    }
   ],
   "execution_count": 13
  },
  {
   "metadata": {},
   "cell_type": "code",
   "outputs": [],
   "execution_count": null,
   "source": "",
   "id": "58b8c8174b2dec12"
  }
 ],
 "metadata": {
  "kernelspec": {
   "display_name": "Python 3",
   "language": "python",
   "name": "python3"
  },
  "language_info": {
   "codemirror_mode": {
    "name": "ipython",
    "version": 2
   },
   "file_extension": ".py",
   "mimetype": "text/x-python",
   "name": "python",
   "nbconvert_exporter": "python",
   "pygments_lexer": "ipython2",
   "version": "2.7.6"
  }
 },
 "nbformat": 4,
 "nbformat_minor": 5
}
